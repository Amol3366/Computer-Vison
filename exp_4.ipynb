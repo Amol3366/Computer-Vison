{
 "cells": [
  {
   "cell_type": "code",
   "execution_count": 1,
   "metadata": {},
   "outputs": [],
   "source": [
    "import tensorflow as tf\n",
    "import pandas as pd\n",
    "import os\n",
    "import cv2\n",
    "import numpy as np\n",
    "import matplotlib.pyplot as plt\n",
    "import tensorflow_hub as hub\n",
    "from tensorflow.keras import layers\n",
    "from sklearn.model_selection import train_test_split\n",
    "from tensorflow.keras.preprocessing.image import ImageDataGenerator\n",
    "import datetime\n",
    "\n"
   ]
  },
  {
   "cell_type": "code",
   "execution_count": 2,
   "metadata": {},
   "outputs": [
    {
     "name": "stdout",
     "output_type": "stream",
     "text": [
      "Train Images Shape: (5760, 224, 224, 3)\n",
      "Train Labels Shape: (5760,)\n",
      "Validation Images Shape: (1440, 224, 224, 3)\n",
      "Validation Labels Shape: (1440,)\n"
     ]
    }
   ],
   "source": [
    "\n",
    "\n",
    "# Load CSV file with image file names and labels\n",
    "csv_path = 'train/train/train.csv'  \n",
    "data = pd.read_csv(csv_path)\n",
    "\n",
    "# Path to the folder containing the images\n",
    "image_folder = 'train/train/images'  \n",
    "\n",
    "# Function to load and preprocess images\n",
    "def load_and_preprocess_images(file_paths, target_size=(224, 224)):\n",
    "    images = []\n",
    "    for file_path in file_paths:\n",
    "        image = cv2.imread(os.path.join(image_folder, file_path))\n",
    "        image = cv2.resize(image, target_size)\n",
    "        image = image.astype('float32') / 255.0  # Normalize pixel values\n",
    "        images.append(image)\n",
    "    return np.array(images)\n",
    "\n",
    "# Load and preprocess images\n",
    "images = load_and_preprocess_images(data['filename'])\n",
    "\n",
    "# Encode labels (assuming labels are in 1, 2, 3, 4, 5, 6 format)\n",
    "labels = data['label'] - 1  # Subtract 1 to convert to 0-based indices\n",
    "\n",
    "# Split the data into training and validation sets\n",
    "train_images, val_images, train_labels, val_labels = train_test_split(\n",
    "    images, labels, test_size=0.2, random_state=42\n",
    ")\n",
    "\n",
    "# Print shapes for verification\n",
    "print(\"Train Images Shape:\", train_images.shape)\n",
    "print(\"Train Labels Shape:\", train_labels.shape)\n",
    "print(\"Validation Images Shape:\", val_images.shape)\n",
    "print(\"Validation Labels Shape:\", val_labels.shape)\n"
   ]
  },
  {
   "cell_type": "code",
   "execution_count": 3,
   "metadata": {},
   "outputs": [],
   "source": [
    "def create_tensorboard_callback(dir_name, experiment_name):\n",
    "  \"\"\"\n",
    "  Creates a TensorBoard callback instand to store log files.\n",
    "\n",
    "  Stores log files with the filepath:\n",
    "    \"dir_name/experiment_name/current_datetime/\"\n",
    "\n",
    "  Args:\n",
    "    dir_name: target directory to store TensorBoard log files\n",
    "    experiment_name: name of experiment directory (e.g. efficientnet_model_1)\n",
    "  \"\"\"\n",
    "  log_dir = dir_name + \"/\" + experiment_name + \"/\" + datetime.datetime.now().strftime(\"%Y%m%d-%H%M%S\")\n",
    "  tensorboard_callback = tf.keras.callbacks.TensorBoard(\n",
    "      log_dir=log_dir\n",
    "  )\n",
    "  print(f\"Saving TensorBoard log files to: {log_dir}\")\n",
    "  return tensorboard_callback"
   ]
  },
  {
   "cell_type": "code",
   "execution_count": 4,
   "metadata": {},
   "outputs": [],
   "source": [
    "# Set checkpoint path\n",
    "\n",
    "checkpoint_path = \"models/checkpoint.ckpt\"\n",
    "\n",
    "# Create a MOdelCheckpoint callback that saves the model's weights only\n",
    "checkpoint_callbck = tf.keras.callbacks.ModelCheckpoint(filepath=checkpoint_path,\n",
    "                                                        save_weights_only=True,\n",
    "                                                        save_best_only=False,\n",
    "                                                        save_freq=\"epoch\",\n",
    "                                                        verbose=1)"
   ]
  },
  {
   "cell_type": "code",
   "execution_count": 5,
   "metadata": {},
   "outputs": [],
   "source": [
    "\n",
    "def plot_loss_curves(history):\n",
    "  \"\"\"\n",
    "  Returns separate loss curves for training and validation metrics.\n",
    "\n",
    "  Args:\n",
    "    history: TensorFlow model History object (see: https://www.tensorflow.org/api_docs/python/tf/keras/callbacks/History)\n",
    "  \"\"\" \n",
    "  loss = history.history['loss']\n",
    "  val_loss = history.history['val_loss']\n",
    "\n",
    "  accuracy = history.history['accuracy']\n",
    "  val_accuracy = history.history['val_accuracy']\n",
    "\n",
    "  epochs = range(len(history.history['loss']))\n",
    "\n",
    "  # Plot loss\n",
    "  plt.plot(epochs, loss, label='training_loss')\n",
    "  plt.plot(epochs, val_loss, label='val_loss')\n",
    "  plt.title('Loss')\n",
    "  plt.xlabel('Epochs')\n",
    "  plt.legend()\n",
    "\n",
    "  # Plot accuracy\n",
    "  plt.figure()\n",
    "  plt.plot(epochs, accuracy, label='training_accuracy')\n",
    "  plt.plot(epochs, val_accuracy, label='val_accuracy')\n",
    "  plt.title('Accuracy')\n",
    "  plt.xlabel('Epochs')\n",
    "  plt.legend()\n"
   ]
  },
  {
   "cell_type": "code",
   "execution_count": 6,
   "metadata": {},
   "outputs": [],
   "source": [
    "def test_prediction(model):\n",
    "\n",
    "    # Load the test data CSV file\n",
    "    test_csv_path = 'test/test/test.csv'  # Replace with the actual path\n",
    "    test_data = pd.read_csv(test_csv_path)\n",
    "\n",
    "    # Path to the folder containing test images\n",
    "    test_image_folder = 'test/test/images'  # Replace with the actual path\n",
    "\n",
    "    # Function to load and preprocess test images\n",
    "    def load_and_preprocess_test_images(file_paths, target_size=(224, 224)):\n",
    "        images = []\n",
    "        for file_path in file_paths:\n",
    "            image = cv2.imread(os.path.join(test_image_folder, file_path))\n",
    "            image = cv2.resize(image, target_size)\n",
    "            image = image.astype('float32') / 255.0  # Normalize pixel values\n",
    "            images.append(image)\n",
    "        return np.array(images)\n",
    "\n",
    "    # Load and preprocess test images\n",
    "    test_images = load_and_preprocess_test_images(test_data['filename'])\n",
    "\n",
    "\n",
    "\n",
    "    # Enable memory debugging\n",
    "    tf.debugging.experimental.enable_dump_debug_info(\"memory_debug\")\n",
    "\n",
    "    # Make predictions\n",
    "    predictions = model.predict(test_images)\n",
    "\n",
    "    # Disable memory debugging\n",
    "    tf.debugging.experimental.disable_dump_debug_info()\n",
    "\n",
    "\n",
    "    # Assign labels based on the predicted probabilities\n",
    "    predicted_labels = np.argmax(predictions, axis=1)\n",
    "\n",
    "    # Add predicted labels to the test data DataFrame\n",
    "    test_data['predicted_label'] = predicted_labels + 1  # Add 1 to convert back to 1-indexed labels\n",
    "\n",
    "    # Save the updated test data CSV file\n",
    "    test_data.to_csv('Results/result.csv', index=False)  # Replace with the desired path\n"
   ]
  },
  {
   "cell_type": "code",
   "execution_count": 7,
   "metadata": {},
   "outputs": [],
   "source": [
    "model_9 = tf.keras.models.Sequential([\n",
    "    tf.keras.layers.Conv2D(filters=128, kernel_size=3, activation=\"relu\", input_shape=(224, 224, 3)),\n",
    "    tf.keras.layers.BatchNormalization(),\n",
    "    tf.keras.layers.MaxPool2D(pool_size=2, padding=\"valid\"),\n",
    "    \n",
    "    tf.keras.layers.Conv2D(64, 3, activation=\"relu\"),\n",
    "    tf.keras.layers.BatchNormalization(),\n",
    "    tf.keras.layers.Conv2D(64, 3, activation=\"relu\"),\n",
    "    tf.keras.layers.BatchNormalization(),\n",
    "    tf.keras.layers.MaxPool2D(2),\n",
    "    \n",
    "    tf.keras.layers.Dense(32, activation=\"relu\"),  # Added an extra dense layer\n",
    "    tf.keras.layers.Dropout(0.5),\n",
    "\n",
    "    tf.keras.layers.Flatten(),\n",
    "    tf.keras.layers.Dense(6, activation=\"softmax\")\n",
    "])\n",
    "\n",
    "model_9.compile(loss=\"sparse_categorical_crossentropy\",\n",
    "                optimizer=tf.keras.optimizers.Adam(),\n",
    "                metrics=[\"accuracy\"])\n"
   ]
  },
  {
   "cell_type": "code",
   "execution_count": 8,
   "metadata": {},
   "outputs": [
    {
     "name": "stdout",
     "output_type": "stream",
     "text": [
      "Saving TensorBoard log files to: models/model_9/20231203-142843\n",
      "Epoch 1/10\n",
      "180/180 [==============================] - ETA: 0s - loss: 2.1685 - accuracy: 0.4500\n",
      "Epoch 1: saving model to models\\checkpoint.ckpt\n",
      "180/180 [==============================] - 610s 3s/step - loss: 2.1685 - accuracy: 0.4500 - val_loss: 1.6331 - val_accuracy: 0.2910\n",
      "Epoch 2/10\n",
      "180/180 [==============================] - ETA: 0s - loss: 0.8440 - accuracy: 0.6774\n",
      "Epoch 2: saving model to models\\checkpoint.ckpt\n",
      "180/180 [==============================] - 592s 3s/step - loss: 0.8440 - accuracy: 0.6774 - val_loss: 1.4742 - val_accuracy: 0.4194\n",
      "Epoch 3/10\n",
      "180/180 [==============================] - ETA: 0s - loss: 0.4990 - accuracy: 0.8189\n",
      "Epoch 3: saving model to models\\checkpoint.ckpt\n",
      "180/180 [==============================] - 591s 3s/step - loss: 0.4990 - accuracy: 0.8189 - val_loss: 1.5195 - val_accuracy: 0.5382\n",
      "Epoch 4/10\n",
      "180/180 [==============================] - ETA: 0s - loss: 0.3283 - accuracy: 0.8797\n",
      "Epoch 4: saving model to models\\checkpoint.ckpt\n",
      "180/180 [==============================] - 591s 3s/step - loss: 0.3283 - accuracy: 0.8797 - val_loss: 0.8704 - val_accuracy: 0.7382\n",
      "Epoch 5/10\n",
      "180/180 [==============================] - ETA: 0s - loss: 0.2381 - accuracy: 0.9134\n",
      "Epoch 5: saving model to models\\checkpoint.ckpt\n",
      "180/180 [==============================] - 599s 3s/step - loss: 0.2381 - accuracy: 0.9134 - val_loss: 1.0933 - val_accuracy: 0.7347\n",
      "Epoch 6/10\n",
      "180/180 [==============================] - ETA: 0s - loss: 0.1960 - accuracy: 0.9292\n",
      "Epoch 6: saving model to models\\checkpoint.ckpt\n",
      "180/180 [==============================] - 584s 3s/step - loss: 0.1960 - accuracy: 0.9292 - val_loss: 0.8986 - val_accuracy: 0.7528\n",
      "Epoch 7/10\n",
      "180/180 [==============================] - ETA: 0s - loss: 0.1596 - accuracy: 0.9411\n",
      "Epoch 7: saving model to models\\checkpoint.ckpt\n",
      "180/180 [==============================] - 582s 3s/step - loss: 0.1596 - accuracy: 0.9411 - val_loss: 1.2523 - val_accuracy: 0.7375\n",
      "Epoch 8/10\n",
      "180/180 [==============================] - ETA: 0s - loss: 0.1368 - accuracy: 0.9516\n",
      "Epoch 8: saving model to models\\checkpoint.ckpt\n",
      "180/180 [==============================] - 587s 3s/step - loss: 0.1368 - accuracy: 0.9516 - val_loss: 1.0611 - val_accuracy: 0.7875\n",
      "Epoch 9/10\n",
      "180/180 [==============================] - ETA: 0s - loss: 0.1152 - accuracy: 0.9634\n",
      "Epoch 9: saving model to models\\checkpoint.ckpt\n",
      "180/180 [==============================] - 596s 3s/step - loss: 0.1152 - accuracy: 0.9634 - val_loss: 1.4533 - val_accuracy: 0.7340\n",
      "Epoch 10/10\n",
      "180/180 [==============================] - ETA: 0s - loss: 0.1352 - accuracy: 0.9523\n",
      "Epoch 10: saving model to models\\checkpoint.ckpt\n",
      "180/180 [==============================] - 603s 3s/step - loss: 0.1352 - accuracy: 0.9523 - val_loss: 0.9346 - val_accuracy: 0.8028\n"
     ]
    }
   ],
   "source": [
    "# Train the model\n",
    "history_model_9 = model_9.fit(\n",
    "    train_images, train_labels,\n",
    "    epochs=10,\n",
    "    validation_data=(val_images, val_labels),\n",
    "    callbacks = [create_tensorboard_callback(dir_name = \"models\",\n",
    "                                             experiment_name=\"model_9\"),\n",
    "                                             checkpoint_callbck])\n"
   ]
  },
  {
   "cell_type": "code",
   "execution_count": null,
   "metadata": {},
   "outputs": [],
   "source": [
    "# Steup input shape and base model , freezing the base model layers\n",
    "input_shape = (224, 224, 3)\n",
    "\n",
    "# Create base model\n",
    "base_model = tf.keras.applications.efficientnet_v2.EfficientNetV2B0(include_top=False)\n",
    "base_model.trainable = False\n",
    "\n",
    "# Create the input layers\n",
    "inputs = layers.Input(shape=input_shape, name=\"input_layers\")\n",
    "\n",
    "# Addin data augmentation Sequential model as layer\n",
    "x = data_augmentation(inputs)\n",
    "\n",
    "# Give base_model the inputs (after augmentation) and don't train it\n",
    "x= base_model(x, training=False)\n",
    "\n",
    "# pool output features of the base model\n",
    "x = layers.GlobalAveragePooling2D(name= \"global_average_pooling_layer\")(x)\n",
    "\n",
    "# Put a dense layer on as the output\n",
    "outputs = layers.Dense(10, activation=\"softmax\", name=\"output_layer\")(x)\n",
    "\n",
    "# Make model using the inputs and outputs\n",
    "outputs = layers.Dense(10, activation=\"softmax\", name=\"output_layer\")(x)\n",
    "\n",
    "# Make a model using the inputes and outputs\n",
    "\n",
    "model_1 = keras.Model(inputs, outputs)\n",
    "\n",
    "# Compile the model\n",
    "model_1.compile(loss=\"categorical_crossentropy\",\n",
    "                optimizer=tf.keras.optimizers.Adam(),\n",
    "                metrics=[\"accuracy\"])\n",
    "\n",
    "\n",
    "\n"
   ]
  },
  {
   "cell_type": "code",
   "execution_count": null,
   "metadata": {},
   "outputs": [],
   "source": []
  },
  {
   "cell_type": "code",
   "execution_count": 7,
   "metadata": {},
   "outputs": [],
   "source": [
    "# CVreate model 2 with data augmentation built in\n",
    "\n",
    "from tensorflow.keras import layers\n",
    "from tensorflow.keras.layers.experimental import preprocessing\n",
    "from tensorflow.keras.models import Sequential\n",
    "\n",
    "# Build data augmentation layer\n",
    "\n",
    "data_augmentation = Sequential([\n",
    "    preprocessing.RandomFlip(\"horizontal\"),\n",
    "    preprocessing.RandomHeight(0.2),\n",
    "    preprocessing.RandomWidth(0.2),\n",
    "    preprocessing.RandomZoom(0.2),\n",
    "    preprocessing.RandomRotation(0.2)\n",
    "], name=\"data_augmentation\")\n",
    "\n",
    "# Setup the input shape to our model\n",
    "input_shape = (224, 224, 3)\n",
    "\n",
    "# Create a frozen base model (also called the backbone)\n",
    "base_model = tf.keras.applications.efficientnet_v2.EfficientNetV2B0(include_top=False)\n",
    "base_model.trainable = False\n",
    "\n",
    "# create the input and outputs (including the layers in between)\n",
    "inputs = layers.Input(shape=input_shape, name= \"inpute_layer\")\n",
    "x = data_augmentation(inputs)# augment our training images (augmentation doesn't occur on test data)\n",
    "x = base_model(x, training=False) # pass augmented images to base model but keep it in inferance mode, this also insures batchnorm layers don't get updated\n",
    "x = layers.GlobalAveragePooling2D(name=\"global_average_pooling_2D\")(x)\n",
    "outputs = layers.Dense(6, activation=\"softmax\", name=\"output_layer\")(x)\n",
    "model_10 = tf.keras.Model(inputs, outputs)\n",
    "\n",
    "# Compile the model\n",
    "model_10.compile(loss=\"sparse_categorical_crossentropy\",\n",
    "                optimizer=tf.keras.optimizers.Adam(),\n",
    "                metrics=[\"accuracy\"])\n",
    "\n",
    "\n"
   ]
  },
  {
   "cell_type": "code",
   "execution_count": null,
   "metadata": {},
   "outputs": [],
   "source": [
    "# Train the model\n",
    "history_model_10 = model_10.fit(\n",
    "    train_images, train_labels,\n",
    "    epochs=10,\n",
    "    validation_data=(val_images, val_labels),\n",
    "    callbacks = [create_tensorboard_callback(dir_name = \"models\",\n",
    "                                             experiment_name=\"model_10\"),\n",
    "                                             checkpoint_callbck])\n"
   ]
  },
  {
   "cell_type": "code",
   "execution_count": 7,
   "metadata": {},
   "outputs": [],
   "source": [
    "# Let's make create_model() function to model from a url\n",
    "def create_model(model_url, num_classes=6):\n",
    "  \"\"\"\n",
    "  Takes a tensorflow hub URL and creates a keras sequential model with it.\n",
    "\n",
    "  Args:\n",
    "    model_url(str): A tensorflow hub feature extraction URL.\n",
    "    num_classes (int): Number of output nrurons in the output layer,\n",
    "    should be equal to number of target classes, default 10.\n",
    "\n",
    "  Returns:\n",
    "    An uncompiled Keras Sequential model with model_url as feature extractor\n",
    "    layer and Dense output layer with num_classes output neurons\n",
    "  \"\"\"\n",
    "  # Download the pretrained model and save it as a Keras layer\n",
    "  feature_extractor_layers = hub.KerasLayer(model_url,\n",
    "                                            trainable=False, # Freeze the already learned pattarens\n",
    "                                            name= \"feature_extraction_layer\",\n",
    "                                            input_shape=(224,224,3)) # Freeze the already learned pattarens\n",
    "  # cretae our own model\n",
    "  model = tf.keras.Sequential([\n",
    "      feature_extractor_layers,\n",
    "      layers.Dense(num_classes, activation=\"softmax\", name = \"output_layer\")\n",
    "  ])\n",
    "\n",
    "  return model\n"
   ]
  },
  {
   "cell_type": "code",
   "execution_count": 8,
   "metadata": {},
   "outputs": [],
   "source": [
    "efficientnet_url= \"https://tfhub.dev/tensorflow/efficientnet/b0/feature-vector/1\"\n"
   ]
  },
  {
   "cell_type": "code",
   "execution_count": 9,
   "metadata": {},
   "outputs": [],
   "source": [
    "efficientnet_model = create_model(model_url= efficientnet_url,\n",
    "                                  num_classes=6)"
   ]
  },
  {
   "cell_type": "code",
   "execution_count": 10,
   "metadata": {},
   "outputs": [],
   "source": [
    "# compile Efficientnet model\n",
    "efficientnet_model.compile(loss=\"sparse_categorical_crossentropy\",\n",
    "                           optimizer=tf.keras.optimizers.Adam(),\n",
    "                           metrics=[\"accuracy\"])"
   ]
  },
  {
   "cell_type": "code",
   "execution_count": 11,
   "metadata": {},
   "outputs": [
    {
     "name": "stdout",
     "output_type": "stream",
     "text": [
      "Saving TensorBoard log files to: models/FE_model_8/20231203-225232\n",
      "Epoch 1/20\n",
      "180/180 [==============================] - ETA: 0s - loss: 0.8878 - accuracy: 0.6635\n",
      "Epoch 1: saving model to models\\checkpoint.ckpt\n",
      "180/180 [==============================] - 130s 664ms/step - loss: 0.8878 - accuracy: 0.6635 - val_loss: 0.7011 - val_accuracy: 0.7340\n",
      "Epoch 2/20\n",
      "180/180 [==============================] - ETA: 0s - loss: 0.6057 - accuracy: 0.7743\n",
      "Epoch 2: saving model to models\\checkpoint.ckpt\n",
      "180/180 [==============================] - 116s 643ms/step - loss: 0.6057 - accuracy: 0.7743 - val_loss: 0.6112 - val_accuracy: 0.7611\n",
      "Epoch 3/20\n",
      "180/180 [==============================] - ETA: 0s - loss: 0.5175 - accuracy: 0.8038\n",
      "Epoch 3: saving model to models\\checkpoint.ckpt\n",
      "180/180 [==============================] - 119s 664ms/step - loss: 0.5175 - accuracy: 0.8038 - val_loss: 0.5675 - val_accuracy: 0.7792\n",
      "Epoch 4/20\n",
      "180/180 [==============================] - ETA: 0s - loss: 0.4599 - accuracy: 0.8259\n",
      "Epoch 4: saving model to models\\checkpoint.ckpt\n",
      "180/180 [==============================] - 116s 643ms/step - loss: 0.4599 - accuracy: 0.8259 - val_loss: 0.5334 - val_accuracy: 0.7910\n",
      "Epoch 5/20\n",
      "180/180 [==============================] - ETA: 0s - loss: 0.4173 - accuracy: 0.8484\n",
      "Epoch 5: saving model to models\\checkpoint.ckpt\n",
      "180/180 [==============================] - 115s 637ms/step - loss: 0.4173 - accuracy: 0.8484 - val_loss: 0.5058 - val_accuracy: 0.7993\n",
      "Epoch 6/20\n",
      "180/180 [==============================] - ETA: 0s - loss: 0.3842 - accuracy: 0.8670\n",
      "Epoch 6: saving model to models\\checkpoint.ckpt\n",
      "180/180 [==============================] - 116s 644ms/step - loss: 0.3842 - accuracy: 0.8670 - val_loss: 0.4884 - val_accuracy: 0.8076\n",
      "Epoch 7/20\n",
      "180/180 [==============================] - ETA: 0s - loss: 0.3549 - accuracy: 0.8819\n",
      "Epoch 7: saving model to models\\checkpoint.ckpt\n",
      "180/180 [==============================] - 116s 646ms/step - loss: 0.3549 - accuracy: 0.8819 - val_loss: 0.4721 - val_accuracy: 0.8125\n",
      "Epoch 8/20\n",
      "180/180 [==============================] - ETA: 0s - loss: 0.3322 - accuracy: 0.8847\n",
      "Epoch 8: saving model to models\\checkpoint.ckpt\n",
      "180/180 [==============================] - 116s 643ms/step - loss: 0.3322 - accuracy: 0.8847 - val_loss: 0.4542 - val_accuracy: 0.8167\n",
      "Epoch 9/20\n",
      "180/180 [==============================] - ETA: 0s - loss: 0.3113 - accuracy: 0.8995\n",
      "Epoch 9: saving model to models\\checkpoint.ckpt\n",
      "180/180 [==============================] - 117s 649ms/step - loss: 0.3113 - accuracy: 0.8995 - val_loss: 0.4445 - val_accuracy: 0.8243\n",
      "Epoch 10/20\n",
      "180/180 [==============================] - ETA: 0s - loss: 0.2949 - accuracy: 0.9017\n",
      "Epoch 10: saving model to models\\checkpoint.ckpt\n",
      "180/180 [==============================] - 119s 662ms/step - loss: 0.2949 - accuracy: 0.9017 - val_loss: 0.4300 - val_accuracy: 0.8326\n",
      "Epoch 11/20\n",
      "180/180 [==============================] - ETA: 0s - loss: 0.2798 - accuracy: 0.9115\n",
      "Epoch 11: saving model to models\\checkpoint.ckpt\n",
      "180/180 [==============================] - 115s 641ms/step - loss: 0.2798 - accuracy: 0.9115 - val_loss: 0.4243 - val_accuracy: 0.8313\n",
      "Epoch 12/20\n",
      "180/180 [==============================] - ETA: 0s - loss: 0.2659 - accuracy: 0.9175\n",
      "Epoch 12: saving model to models\\checkpoint.ckpt\n",
      "180/180 [==============================] - 119s 662ms/step - loss: 0.2659 - accuracy: 0.9175 - val_loss: 0.4086 - val_accuracy: 0.8361\n",
      "Epoch 13/20\n",
      "180/180 [==============================] - ETA: 0s - loss: 0.2513 - accuracy: 0.9236\n",
      "Epoch 13: saving model to models\\checkpoint.ckpt\n",
      "180/180 [==============================] - 140s 777ms/step - loss: 0.2513 - accuracy: 0.9236 - val_loss: 0.4014 - val_accuracy: 0.8493\n",
      "Epoch 14/20\n",
      "180/180 [==============================] - ETA: 0s - loss: 0.2429 - accuracy: 0.9285\n",
      "Epoch 14: saving model to models\\checkpoint.ckpt\n",
      "180/180 [==============================] - 137s 762ms/step - loss: 0.2429 - accuracy: 0.9285 - val_loss: 0.3942 - val_accuracy: 0.8507\n",
      "Epoch 15/20\n",
      "180/180 [==============================] - ETA: 0s - loss: 0.2305 - accuracy: 0.9335\n",
      "Epoch 15: saving model to models\\checkpoint.ckpt\n",
      "180/180 [==============================] - 133s 739ms/step - loss: 0.2305 - accuracy: 0.9335 - val_loss: 0.3819 - val_accuracy: 0.8514\n",
      "Epoch 16/20\n",
      "180/180 [==============================] - ETA: 0s - loss: 0.2213 - accuracy: 0.9351\n",
      "Epoch 16: saving model to models\\checkpoint.ckpt\n",
      "180/180 [==============================] - 136s 758ms/step - loss: 0.2213 - accuracy: 0.9351 - val_loss: 0.3746 - val_accuracy: 0.8576\n",
      "Epoch 17/20\n",
      "180/180 [==============================] - ETA: 0s - loss: 0.2131 - accuracy: 0.9406\n",
      "Epoch 17: saving model to models\\checkpoint.ckpt\n",
      "180/180 [==============================] - 125s 695ms/step - loss: 0.2131 - accuracy: 0.9406 - val_loss: 0.3673 - val_accuracy: 0.8583\n",
      "Epoch 18/20\n",
      "180/180 [==============================] - ETA: 0s - loss: 0.2044 - accuracy: 0.9448\n",
      "Epoch 18: saving model to models\\checkpoint.ckpt\n",
      "180/180 [==============================] - 103s 574ms/step - loss: 0.2044 - accuracy: 0.9448 - val_loss: 0.3632 - val_accuracy: 0.8590\n",
      "Epoch 19/20\n",
      "180/180 [==============================] - ETA: 0s - loss: 0.1966 - accuracy: 0.9457\n",
      "Epoch 19: saving model to models\\checkpoint.ckpt\n",
      "180/180 [==============================] - 97s 539ms/step - loss: 0.1966 - accuracy: 0.9457 - val_loss: 0.3623 - val_accuracy: 0.8639\n",
      "Epoch 20/20\n",
      "180/180 [==============================] - ETA: 0s - loss: 0.1909 - accuracy: 0.9493\n",
      "Epoch 20: saving model to models\\checkpoint.ckpt\n",
      "180/180 [==============================] - 96s 532ms/step - loss: 0.1909 - accuracy: 0.9493 - val_loss: 0.3525 - val_accuracy: 0.8646\n"
     ]
    }
   ],
   "source": [
    "# Train the model\n",
    "history_FE_model_8 = efficientnet_model.fit(\n",
    "    train_images, train_labels,\n",
    "    epochs=20,\n",
    "    validation_data=(val_images, val_labels),\n",
    "    callbacks = [create_tensorboard_callback(dir_name = \"models\",\n",
    "                                             experiment_name=\"FE_model_8\"),\n",
    "                                             checkpoint_callbck])\n"
   ]
  },
  {
   "cell_type": "code",
   "execution_count": 12,
   "metadata": {},
   "outputs": [],
   "source": [
    "efficientnet_model.save(\"best_FE_model_8.keras\")"
   ]
  },
  {
   "cell_type": "code",
   "execution_count": 13,
   "metadata": {},
   "outputs": [
    {
     "data": {
      "image/png": "[encoded data removed]",
      "text/plain": [
       "<Figure size 640x480 with 1 Axes>"
      ]
     },
     "metadata": {},
     "output_type": "display_data"
    },
    {
     "data": {
      "image/png": "[encoded data removed]",
      "text/plain": [
       "<Figure size 640x480 with 1 Axes>"
      ]
     },
     "metadata": {},
     "output_type": "display_data"
    }
   ],
   "source": [
    "plot_loss_curves(history_FE_model_8)"
   ]
  },
  {
   "cell_type": "code",
   "execution_count": 14,
   "metadata": {},
   "outputs": [
    {
     "name": "stdout",
     "output_type": "stream",
     "text": [
      "INFO:tensorflow:Enabled dumping callback in thread MainThread (dump root: memory_debug, tensor debug mode: NO_TENSOR)\n"
     ]
    },
    {
     "name": "stderr",
     "output_type": "stream",
     "text": [
      "INFO:tensorflow:Enabled dumping callback in thread MainThread (dump root: memory_debug, tensor debug mode: NO_TENSOR)\n"
     ]
    },
    {
     "name": "stdout",
     "output_type": "stream",
     "text": [
      "WARNING:tensorflow:Failed to read source code from path: d:\\Hackthon\\<frozen runpy>. Reason: Source path neither exists nor can be loaded as a .par file: d:\\Hackthon\\<frozen runpy>\n"
     ]
    },
    {
     "name": "stderr",
     "output_type": "stream",
     "text": [
      "WARNING:tensorflow:Failed to read source code from path: d:\\Hackthon\\<frozen runpy>. Reason: Source path neither exists nor can be loaded as a .par file: d:\\Hackthon\\<frozen runpy>\n"
     ]
    },
    {
     "name": "stdout",
     "output_type": "stream",
     "text": [
      "WARNING:tensorflow:Failed to read source code from path: C:\\TEMP\\ipykernel_19704\\3542370291.py. Reason: Source path neither exists nor can be loaded as a .par file: C:\\TEMP\\ipykernel_19704\\3542370291.py\n"
     ]
    },
    {
     "name": "stderr",
     "output_type": "stream",
     "text": [
      "WARNING:tensorflow:Failed to read source code from path: C:\\TEMP\\ipykernel_19704\\3542370291.py. Reason: Source path neither exists nor can be loaded as a .par file: C:\\TEMP\\ipykernel_19704\\3542370291.py\n"
     ]
    },
    {
     "name": "stdout",
     "output_type": "stream",
     "text": [
      "WARNING:tensorflow:Failed to read source code from path: C:\\TEMP\\ipykernel_19704\\655826562.py. Reason: Source path neither exists nor can be loaded as a .par file: C:\\TEMP\\ipykernel_19704\\655826562.py\n"
     ]
    },
    {
     "name": "stderr",
     "output_type": "stream",
     "text": [
      "WARNING:tensorflow:Failed to read source code from path: C:\\TEMP\\ipykernel_19704\\655826562.py. Reason: Source path neither exists nor can be loaded as a .par file: C:\\TEMP\\ipykernel_19704\\655826562.py\n"
     ]
    },
    {
     "name": "stdout",
     "output_type": "stream",
     "text": [
      "150/150 [==============================] - 60s 386ms/step\n",
      "INFO:tensorflow:Disabled dumping callback in thread MainThread (dump root: memory_debug)\n"
     ]
    },
    {
     "name": "stderr",
     "output_type": "stream",
     "text": [
      "INFO:tensorflow:Disabled dumping callback in thread MainThread (dump root: memory_debug)\n"
     ]
    }
   ],
   "source": [
    "test_prediction(efficientnet_model)"
   ]
  },
  {
   "cell_type": "code",
   "execution_count": null,
   "metadata": {},
   "outputs": [],
   "source": []
  },
  {
   "cell_type": "code",
   "execution_count": null,
   "metadata": {},
   "outputs": [],
   "source": []
  },
  {
   "cell_type": "code",
   "execution_count": null,
   "metadata": {},
   "outputs": [],
   "source": []
  },
  {
   "cell_type": "code",
   "execution_count": null,
   "metadata": {},
   "outputs": [],
   "source": []
  }
 ],
 "metadata": {
  "kernelspec": {
   "display_name": "tf",
   "language": "python",
   "name": "python3"
  },
  "language_info": {
   "codemirror_mode": {
    "name": "ipython",
    "version": 3
   },
   "file_extension": ".py",
   "mimetype": "text/x-python",
   "name": "python",
   "nbconvert_exporter": "python",
   "pygments_lexer": "ipython3",
   "version": "3.11.5"
  }
 },
 "nbformat": 4,
 "nbformat_minor": 2
}
