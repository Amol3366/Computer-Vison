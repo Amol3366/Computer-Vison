{
 "cells": [
  {
   "cell_type": "code",
   "execution_count": 3,
   "metadata": {},
   "outputs": [
    {
     "ename": "ModuleNotFoundError",
     "evalue": "No module named 'cv2'",
     "output_type": "error",
     "traceback": [
      "\u001b[1;31m---------------------------------------------------------------------------\u001b[0m",
      "\u001b[1;31mModuleNotFoundError\u001b[0m                       Traceback (most recent call last)",
      "\u001b[1;32md:\\Hackthon\\exp_5.ipynb Cell 1\u001b[0m line \u001b[0;36m5\n\u001b[0;32m      <a href='vscode-notebook-cell:/d%3A/Hackthon/exp_5.ipynb#W0sZmlsZQ%3D%3D?line=2'>3</a>\u001b[0m \u001b[39mimport\u001b[39;00m \u001b[39mpandas\u001b[39;00m \u001b[39mas\u001b[39;00m \u001b[39mpd\u001b[39;00m\n\u001b[0;32m      <a href='vscode-notebook-cell:/d%3A/Hackthon/exp_5.ipynb#W0sZmlsZQ%3D%3D?line=3'>4</a>\u001b[0m \u001b[39mimport\u001b[39;00m \u001b[39mos\u001b[39;00m\n\u001b[1;32m----> <a href='vscode-notebook-cell:/d%3A/Hackthon/exp_5.ipynb#W0sZmlsZQ%3D%3D?line=4'>5</a>\u001b[0m \u001b[39mimport\u001b[39;00m \u001b[39mcv2\u001b[39;00m\n\u001b[0;32m      <a href='vscode-notebook-cell:/d%3A/Hackthon/exp_5.ipynb#W0sZmlsZQ%3D%3D?line=5'>6</a>\u001b[0m \u001b[39mimport\u001b[39;00m \u001b[39mnumpy\u001b[39;00m \u001b[39mas\u001b[39;00m \u001b[39mnp\u001b[39;00m\n\u001b[0;32m      <a href='vscode-notebook-cell:/d%3A/Hackthon/exp_5.ipynb#W0sZmlsZQ%3D%3D?line=6'>7</a>\u001b[0m \u001b[39mimport\u001b[39;00m \u001b[39mmatplotlib\u001b[39;00m\u001b[39m.\u001b[39;00m\u001b[39mpyplot\u001b[39;00m \u001b[39mas\u001b[39;00m \u001b[39mplt\u001b[39;00m\n",
      "\u001b[1;31mModuleNotFoundError\u001b[0m: No module named 'cv2'"
     ]
    }
   ],
   "source": [
    "import tensorflow as tf\n",
    "# import tensorflow_addons as tfa\n",
    "import pandas as pd\n",
    "import os\n",
    "import cv2\n",
    "import numpy as np\n",
    "import matplotlib.pyplot as plt\n",
    "import tensorflow_hub as hub\n",
    "from tensorflow.keras import layers\n",
    "from sklearn.model_selection import train_test_split\n",
    "from tensorflow.keras.preprocessing.image import ImageDataGenerator\n",
    "import datetime\n",
    "\n"
   ]
  },
  {
   "cell_type": "code",
   "execution_count": 2,
   "metadata": {},
   "outputs": [
    {
     "data": {
      "text/plain": [
       "'2.15.0'"
      ]
     },
     "execution_count": 2,
     "metadata": {},
     "output_type": "execute_result"
    }
   ],
   "source": [
    "tf.__version__"
   ]
  },
  {
   "cell_type": "code",
   "execution_count": null,
   "metadata": {},
   "outputs": [],
   "source": []
  },
  {
   "cell_type": "code",
   "execution_count": null,
   "metadata": {},
   "outputs": [],
   "source": []
  },
  {
   "cell_type": "code",
   "execution_count": null,
   "metadata": {},
   "outputs": [],
   "source": []
  },
  {
   "cell_type": "code",
   "execution_count": 4,
   "metadata": {},
   "outputs": [
    {
     "data": {
      "text/plain": [
       "[]"
      ]
     },
     "execution_count": 4,
     "metadata": {},
     "output_type": "execute_result"
    }
   ],
   "source": [
    "tf.config.list_logical_devices('GPU')"
   ]
  },
  {
   "cell_type": "code",
   "execution_count": 5,
   "metadata": {},
   "outputs": [
    {
     "data": {
      "text/plain": [
       "'2.15.0'"
      ]
     },
     "execution_count": 5,
     "metadata": {},
     "output_type": "execute_result"
    }
   ],
   "source": [
    "(tf.__version__)"
   ]
  },
  {
   "cell_type": "code",
   "execution_count": 5,
   "metadata": {},
   "outputs": [
    {
     "name": "stdout",
     "output_type": "stream",
     "text": [
      "WARNING:tensorflow:From C:\\TEMP\\ipykernel_14112\\337460670.py:1: is_gpu_available (from tensorflow.python.framework.test_util) is deprecated and will be removed in a future version.\n",
      "Instructions for updating:\n",
      "Use `tf.config.list_physical_devices('GPU')` instead.\n"
     ]
    },
    {
     "data": {
      "text/plain": [
       "False"
      ]
     },
     "execution_count": 5,
     "metadata": {},
     "output_type": "execute_result"
    }
   ],
   "source": [
    "tf.test.is_gpu_available()"
   ]
  },
  {
   "cell_type": "code",
   "execution_count": null,
   "metadata": {},
   "outputs": [],
   "source": []
  },
  {
   "cell_type": "code",
   "execution_count": null,
   "metadata": {},
   "outputs": [],
   "source": []
  },
  {
   "cell_type": "code",
   "execution_count": 2,
   "metadata": {},
   "outputs": [
    {
     "name": "stdout",
     "output_type": "stream",
     "text": [
      "Train Images Shape: (5760, 224, 224, 3)\n",
      "Train Labels Shape: (5760,)\n",
      "Validation Images Shape: (1440, 224, 224, 3)\n",
      "Validation Labels Shape: (1440,)\n"
     ]
    }
   ],
   "source": [
    "\n",
    "\n",
    "# Load CSV file with image file names and labels\n",
    "csv_path = 'train/train/train.csv'  \n",
    "data = pd.read_csv(csv_path)\n",
    "\n",
    "# Path to the folder containing the images\n",
    "image_folder = 'train/train/images'  \n",
    "\n",
    "# Function to load and preprocess images\n",
    "def load_and_preprocess_images(file_paths, target_size=(224, 224)):\n",
    "    images = []\n",
    "    for file_path in file_paths:\n",
    "        image = cv2.imread(os.path.join(image_folder, file_path))\n",
    "        image = cv2.resize(image, target_size)\n",
    "        image = image.astype('float32') / 255.0  # Normalize pixel values\n",
    "        images.append(image)\n",
    "    return np.array(images)\n",
    "\n",
    "# Load and preprocess images\n",
    "images = load_and_preprocess_images(data['filename'])\n",
    "\n",
    "# Encode labels (assuming labels are in 1, 2, 3, 4, 5, 6 format)\n",
    "labels = data['label'] - 1  # Subtract 1 to convert to 0-based indices\n",
    "\n",
    "# Split the data into training and validation sets\n",
    "train_images, val_images, train_labels, val_labels = train_test_split(\n",
    "    images, labels, test_size=0.2, random_state=42\n",
    ")\n",
    "\n",
    "# Print shapes for verification\n",
    "print(\"Train Images Shape:\", train_images.shape)\n",
    "print(\"Train Labels Shape:\", train_labels.shape)\n",
    "print(\"Validation Images Shape:\", val_images.shape)\n",
    "print(\"Validation Labels Shape:\", val_labels.shape)\n"
   ]
  },
  {
   "cell_type": "code",
   "execution_count": 3,
   "metadata": {},
   "outputs": [],
   "source": [
    "def create_tensorboard_callback(dir_name, experiment_name):\n",
    "  \"\"\"\n",
    "  Creates a TensorBoard callback instand to store log files.\n",
    "\n",
    "  Stores log files with the filepath:\n",
    "    \"dir_name/experiment_name/current_datetime/\"\n",
    "\n",
    "  Args:\n",
    "    dir_name: target directory to store TensorBoard log files\n",
    "    experiment_name: name of experiment directory (e.g. efficientnet_model_1)\n",
    "  \"\"\"\n",
    "  log_dir = dir_name + \"/\" + experiment_name + \"/\" + datetime.datetime.now().strftime(\"%Y%m%d-%H%M%S\")\n",
    "  tensorboard_callback = tf.keras.callbacks.TensorBoard(\n",
    "      log_dir=log_dir\n",
    "  )\n",
    "  print(f\"Saving TensorBoard log files to: {log_dir}\")\n",
    "  return tensorboard_callback"
   ]
  },
  {
   "cell_type": "code",
   "execution_count": 4,
   "metadata": {},
   "outputs": [],
   "source": [
    "# Set checkpoint path\n",
    "\n",
    "checkpoint_path = \"models/checkpoint.ckpt\"\n",
    "\n",
    "# Create a MOdelCheckpoint callback that saves the model's weights only\n",
    "checkpoint_callbck = tf.keras.callbacks.ModelCheckpoint(filepath=checkpoint_path,\n",
    "                                                        save_weights_only=True,\n",
    "                                                        save_best_only=True,\n",
    "                                                        save_freq=\"epoch\",\n",
    "                                                        verbose=1)"
   ]
  },
  {
   "cell_type": "code",
   "execution_count": 5,
   "metadata": {},
   "outputs": [],
   "source": [
    "\n",
    "def plot_loss_curves(history):\n",
    "  \"\"\"\n",
    "  Returns separate loss curves for training and validation metrics.\n",
    "\n",
    "  Args:\n",
    "    history: TensorFlow model History object (see: https://www.tensorflow.org/api_docs/python/tf/keras/callbacks/History)\n",
    "  \"\"\" \n",
    "  loss = history.history['loss']\n",
    "  val_loss = history.history['val_loss']\n",
    "\n",
    "  accuracy = history.history['accuracy']\n",
    "  val_accuracy = history.history['val_accuracy']\n",
    "\n",
    "  epochs = range(len(history.history['loss']))\n",
    "\n",
    "  # Plot loss\n",
    "  plt.plot(epochs, loss, label='training_loss')\n",
    "  plt.plot(epochs, val_loss, label='val_loss')\n",
    "  plt.title('Loss')\n",
    "  plt.xlabel('Epochs')\n",
    "  plt.legend()\n",
    "\n",
    "  # Plot accuracy\n",
    "  plt.figure()\n",
    "  plt.plot(epochs, accuracy, label='training_accuracy')\n",
    "  plt.plot(epochs, val_accuracy, label='val_accuracy')\n",
    "  plt.title('Accuracy')\n",
    "  plt.xlabel('Epochs')\n",
    "  plt.legend()\n"
   ]
  },
  {
   "cell_type": "code",
   "execution_count": 6,
   "metadata": {},
   "outputs": [],
   "source": [
    "def test_prediction(model):\n",
    "\n",
    "    # Load the test data CSV file\n",
    "    test_csv_path = 'test/test/test.csv'  # Replace with the actual path\n",
    "    test_data = pd.read_csv(test_csv_path)\n",
    "\n",
    "    # Path to the folder containing test images\n",
    "    test_image_folder = 'test/test/images'  # Replace with the actual path\n",
    "\n",
    "    # Function to load and preprocess test images\n",
    "    def load_and_preprocess_test_images(file_paths, target_size=(224, 224)):\n",
    "        images = []\n",
    "        for file_path in file_paths:\n",
    "            image = cv2.imread(os.path.join(test_image_folder, file_path))\n",
    "            image = cv2.resize(image, target_size)\n",
    "            image = image.astype('float32') / 255.0  # Normalize pixel values\n",
    "            images.append(image)\n",
    "        return np.array(images)\n",
    "\n",
    "    # Load and preprocess test images\n",
    "    test_images = load_and_preprocess_test_images(test_data['filename'])\n",
    "\n",
    "\n",
    "\n",
    "    # Enable memory debugging\n",
    "    tf.debugging.experimental.enable_dump_debug_info(\"memory_debug\")\n",
    "\n",
    "    # Make predictions\n",
    "    predictions = model.predict(test_images)\n",
    "\n",
    "    # Disable memory debugging\n",
    "    tf.debugging.experimental.disable_dump_debug_info()\n",
    "\n",
    "\n",
    "    # Assign labels based on the predicted probabilities\n",
    "    predicted_labels = np.argmax(predictions, axis=1)\n",
    "\n",
    "    # Add predicted labels to the test data DataFrame\n",
    "    test_data['predicted_label'] = predicted_labels + 1  # Add 1 to convert back to 1-indexed labels\n",
    "\n",
    "    # Save the updated test data CSV file\n",
    "    test_data.to_csv('Results/result.csv', index=False)  # Replace with the desired path\n"
   ]
  },
  {
   "cell_type": "code",
   "execution_count": 13,
   "metadata": {},
   "outputs": [
    {
     "name": "stdout",
     "output_type": "stream",
     "text": [
      "Shape after passing inputs through base model: (None, 1000)\n"
     ]
    },
    {
     "ename": "ValueError",
     "evalue": "Input 0 of layer \"Gloabal_average_pooling_layer\" is incompatible with the layer: expected ndim=4, found ndim=2. Full shape received: (None, 1000)",
     "output_type": "error",
     "traceback": [
      "\u001b[1;31m---------------------------------------------------------------------------\u001b[0m",
      "\u001b[1;31mValueError\u001b[0m                                Traceback (most recent call last)",
      "\u001b[1;32md:\\Hackthon\\exp_5.ipynb Cell 7\u001b[0m line \u001b[0;36m1\n\u001b[0;32m     <a href='vscode-notebook-cell:/d%3A/Hackthon/exp_5.ipynb#X15sZmlsZQ%3D%3D?line=14'>15</a>\u001b[0m \u001b[39mprint\u001b[39m(\u001b[39mf\u001b[39m\u001b[39m\"\u001b[39m\u001b[39mShape after passing inputs through base model: \u001b[39m\u001b[39m{\u001b[39;00mx\u001b[39m.\u001b[39mshape\u001b[39m}\u001b[39;00m\u001b[39m\"\u001b[39m)\n\u001b[0;32m     <a href='vscode-notebook-cell:/d%3A/Hackthon/exp_5.ipynb#X15sZmlsZQ%3D%3D?line=16'>17</a>\u001b[0m \u001b[39m# 6. Avarage pool outputs of the model (aggregation all the most important information, reduce number of computations)\u001b[39;00m\n\u001b[1;32m---> <a href='vscode-notebook-cell:/d%3A/Hackthon/exp_5.ipynb#X15sZmlsZQ%3D%3D?line=17'>18</a>\u001b[0m x \u001b[39m=\u001b[39m tf\u001b[39m.\u001b[39;49mkeras\u001b[39m.\u001b[39;49mlayers\u001b[39m.\u001b[39;49mGlobalAveragePooling2D(name \u001b[39m=\u001b[39;49m \u001b[39m\"\u001b[39;49m\u001b[39mGloabal_average_pooling_layer\u001b[39;49m\u001b[39m\"\u001b[39;49m)(x)\n\u001b[0;32m     <a href='vscode-notebook-cell:/d%3A/Hackthon/exp_5.ipynb#X15sZmlsZQ%3D%3D?line=18'>19</a>\u001b[0m \u001b[39mprint\u001b[39m(\u001b[39mf\u001b[39m\u001b[39m\"\u001b[39m\u001b[39mShape after GlobalAveragePooling2D: \u001b[39m\u001b[39m{\u001b[39;00mx\u001b[39m.\u001b[39mshape\u001b[39m}\u001b[39;00m\u001b[39m\"\u001b[39m)\n\u001b[0;32m     <a href='vscode-notebook-cell:/d%3A/Hackthon/exp_5.ipynb#X15sZmlsZQ%3D%3D?line=20'>21</a>\u001b[0m \u001b[39m# 7. Create the output activation layer\u001b[39;00m\n",
      "File \u001b[1;32mc:\\Users\\ADMIN\\anaconda3\\envs\\tf\\Lib\\site-packages\\keras\\src\\utils\\traceback_utils.py:70\u001b[0m, in \u001b[0;36mfilter_traceback.<locals>.error_handler\u001b[1;34m(*args, **kwargs)\u001b[0m\n\u001b[0;32m     67\u001b[0m     filtered_tb \u001b[39m=\u001b[39m _process_traceback_frames(e\u001b[39m.\u001b[39m__traceback__)\n\u001b[0;32m     68\u001b[0m     \u001b[39m# To get the full stack trace, call:\u001b[39;00m\n\u001b[0;32m     69\u001b[0m     \u001b[39m# `tf.debugging.disable_traceback_filtering()`\u001b[39;00m\n\u001b[1;32m---> 70\u001b[0m     \u001b[39mraise\u001b[39;00m e\u001b[39m.\u001b[39mwith_traceback(filtered_tb) \u001b[39mfrom\u001b[39;00m \u001b[39mNone\u001b[39;00m\n\u001b[0;32m     71\u001b[0m \u001b[39mfinally\u001b[39;00m:\n\u001b[0;32m     72\u001b[0m     \u001b[39mdel\u001b[39;00m filtered_tb\n",
      "File \u001b[1;32mc:\\Users\\ADMIN\\anaconda3\\envs\\tf\\Lib\\site-packages\\keras\\src\\engine\\input_spec.py:235\u001b[0m, in \u001b[0;36massert_input_compatibility\u001b[1;34m(input_spec, inputs, layer_name)\u001b[0m\n\u001b[0;32m    233\u001b[0m     ndim \u001b[39m=\u001b[39m shape\u001b[39m.\u001b[39mrank\n\u001b[0;32m    234\u001b[0m     \u001b[39mif\u001b[39;00m ndim \u001b[39m!=\u001b[39m spec\u001b[39m.\u001b[39mndim:\n\u001b[1;32m--> 235\u001b[0m         \u001b[39mraise\u001b[39;00m \u001b[39mValueError\u001b[39;00m(\n\u001b[0;32m    236\u001b[0m             \u001b[39mf\u001b[39m\u001b[39m'\u001b[39m\u001b[39mInput \u001b[39m\u001b[39m{\u001b[39;00minput_index\u001b[39m}\u001b[39;00m\u001b[39m of layer \u001b[39m\u001b[39m\"\u001b[39m\u001b[39m{\u001b[39;00mlayer_name\u001b[39m}\u001b[39;00m\u001b[39m\"\u001b[39m\u001b[39m \u001b[39m\u001b[39m'\u001b[39m\n\u001b[0;32m    237\u001b[0m             \u001b[39m\"\u001b[39m\u001b[39mis incompatible with the layer: \u001b[39m\u001b[39m\"\u001b[39m\n\u001b[0;32m    238\u001b[0m             \u001b[39mf\u001b[39m\u001b[39m\"\u001b[39m\u001b[39mexpected ndim=\u001b[39m\u001b[39m{\u001b[39;00mspec\u001b[39m.\u001b[39mndim\u001b[39m}\u001b[39;00m\u001b[39m, found ndim=\u001b[39m\u001b[39m{\u001b[39;00mndim\u001b[39m}\u001b[39;00m\u001b[39m. \u001b[39m\u001b[39m\"\u001b[39m\n\u001b[0;32m    239\u001b[0m             \u001b[39mf\u001b[39m\u001b[39m\"\u001b[39m\u001b[39mFull shape received: \u001b[39m\u001b[39m{\u001b[39;00m\u001b[39mtuple\u001b[39m(shape)\u001b[39m}\u001b[39;00m\u001b[39m\"\u001b[39m\n\u001b[0;32m    240\u001b[0m         )\n\u001b[0;32m    241\u001b[0m \u001b[39mif\u001b[39;00m spec\u001b[39m.\u001b[39mmax_ndim \u001b[39mis\u001b[39;00m \u001b[39mnot\u001b[39;00m \u001b[39mNone\u001b[39;00m:\n\u001b[0;32m    242\u001b[0m     ndim \u001b[39m=\u001b[39m x\u001b[39m.\u001b[39mshape\u001b[39m.\u001b[39mrank\n",
      "\u001b[1;31mValueError\u001b[0m: Input 0 of layer \"Gloabal_average_pooling_layer\" is incompatible with the layer: expected ndim=4, found ndim=2. Full shape received: (None, 1000)"
     ]
    }
   ],
   "source": [
    "# 1. Create a base model tf.keras.application\n",
    "\n",
    "base_model = tf.keras.applications.efficientnet_v2.EfficientNetV2B0(include_top=False, weights=\"imagenet\")\n",
    "\n",
    "# 2. freeze the base model\n",
    "base_model.trainable = False\n",
    "\n",
    "# 3. Create inputs into our model\n",
    "inputs = tf.keras.layers.Input(shape=(224,224,3), name=\"input_layer\")\n",
    "\n",
    "# 4. for resnet\n",
    "\n",
    "# 5. Pass the inputs to the base model\n",
    "x = base_model(inputs)\n",
    "print(f\"Shape after passing inputs through base model: {x.shape}\")\n",
    "\n",
    "# 6. Avarage pool outputs of the model (aggregation all the most important information, reduce number of computations)\n",
    "x = tf.keras.layers.GlobalAveragePooling2D(name = \"Gloabal_average_pooling_layer\")(x)\n",
    "print(f\"Shape after GlobalAveragePooling2D: {x.shape}\")\n",
    "\n",
    "# 7. Create the output activation layer\n",
    "outputs = tf.keras.layers.Dense(6, activation=\"softmax\", name=\"output_layer\")(x)\n",
    "\n",
    "# 8. combine the inputes with the outputs into a model\n",
    "tl_model_0 = tf.keras.Model(inputs, outputs)\n",
    "\n",
    "#9. Compile the model\n",
    "tl_model_0.compile(loss= \"sparse_categorical_crossentropy\",\n",
    "                optimizer=tf.keras.optimizers.Adam(),\n",
    "                metrics=[\"accuracy\"])\n",
    "\n",
    "\n"
   ]
  },
  {
   "cell_type": "code",
   "execution_count": null,
   "metadata": {},
   "outputs": [
    {
     "name": "stdout",
     "output_type": "stream",
     "text": [
      "Saving TensorBoard log files to: models/tl_model_0/20231203-203426\n",
      "Epoch 1/10\n",
      "180/180 [==============================] - ETA: 0s - loss: 1.5765 - accuracy: 0.3122\n",
      "Epoch 1: val_loss improved from inf to 1.55356, saving model to models\\checkpoint.ckpt\n",
      "180/180 [==============================] - 104s 551ms/step - loss: 1.5765 - accuracy: 0.3122 - val_loss: 1.5536 - val_accuracy: 0.3306\n",
      "Epoch 2/10\n",
      "180/180 [==============================] - ETA: 0s - loss: 1.5713 - accuracy: 0.3104\n",
      "Epoch 2: val_loss did not improve from 1.55356\n",
      "180/180 [==============================] - 89s 494ms/step - loss: 1.5713 - accuracy: 0.3104 - val_loss: 1.5589 - val_accuracy: 0.3285\n",
      "Epoch 3/10\n",
      " 71/180 [==========>...................] - ETA: 43s - loss: 1.5829 - accuracy: 0.3169"
     ]
    }
   ],
   "source": [
    "# Train the model\n",
    "history_tl_model_0 = tl_model_0.fit(\n",
    "    train_images, train_labels,\n",
    "    epochs=10,\n",
    "    validation_data=(val_images, val_labels),\n",
    "    callbacks = [create_tensorboard_callback(dir_name = \"models\",\n",
    "                                             experiment_name=\"tl_model_0\"),\n",
    "                                             checkpoint_callbck])"
   ]
  },
  {
   "cell_type": "code",
   "execution_count": 9,
   "metadata": {},
   "outputs": [
    {
     "data": {
      "image/png": "[encoded data removed]",
      "text/plain": [
       "<Figure size 640x480 with 1 Axes>"
      ]
     },
     "metadata": {},
     "output_type": "display_data"
    },
    {
     "data": {
      "image/png": "[encoded data removed]",
      "text/plain": [
       "<Figure size 640x480 with 1 Axes>"
      ]
     },
     "metadata": {},
     "output_type": "display_data"
    }
   ],
   "source": [
    "plot_loss_curves(history_tl_model_0)"
   ]
  },
  {
   "cell_type": "markdown",
   "metadata": {},
   "source": [
    "### This model is not giving more accuracy so we can add some data aggmetation Layer on it ANd check whether it is affection g the model or after that we can unfreeze some weights"
   ]
  },
  {
   "cell_type": "code",
   "execution_count": 14,
   "metadata": {},
   "outputs": [],
   "source": [
    "data_augmentation = tf.keras.Sequential([\n",
    "  layers.RandomFlip(\"horizontal\"),\n",
    "  layers.RandomRotation(0.2),\n",
    "  layers.RandomZoom(0.2),\n",
    "  layers.RandomHeight(0.2),\n",
    "  layers.RandomWidth(0.2),\n",
    "  # preprocessing.Rescaling(1./255) # keep for ResNet50V2, remove for EfficientNetV2B0\n",
    "], name =\"data_augmentation\")"
   ]
  },
  {
   "cell_type": "code",
   "execution_count": 22,
   "metadata": {},
   "outputs": [
    {
     "name": "stdout",
     "output_type": "stream",
     "text": [
      "Downloading data from https://storage.googleapis.com/tensorflow/keras-applications/efficientnet_v2/efficientnetv2-b1_notop.h5\n",
      "28456008/28456008 [==============================] - 109s 4us/step\n"
     ]
    }
   ],
   "source": [
    "# Setup input shape and base model, freezing the base model layers\n",
    "input_shape = (224, 224, 3)\n",
    "base_model = tf.keras.applications.efficientnet_v2.EfficientNetV2B1(include_top=False, weights=\"imagenet\")\n",
    "base_model.trainable = False\n",
    "\n",
    "# Create input layer\n",
    "inputs = layers.Input(shape=input_shape, name=\"input_layer\")\n",
    "\n",
    "# Add in data augmentation Sequential model as a layer\n",
    "x = data_augmentation(inputs)\n",
    "\n",
    "# Give base_model inputs (after augmentation) and don't train it\n",
    "x = base_model(x, training=False)\n",
    "\n",
    "# Pool output features of base model\n",
    "x = layers.GlobalAveragePooling2D(name=\"global_average_pooling_layer\")(x)\n",
    "\n",
    "# Put a dense layer on as the output\n",
    "outputs = layers.Dense(6, activation=\"softmax\", name=\"output_layer\")(x)\n",
    "\n",
    "# Make a model with inputs and outputs\n",
    "tf_model_1 = tf.keras.Model(inputs, outputs)\n",
    "\n",
    "# Compile the model\n",
    "tf_model_1.compile(loss=\"sparse_categorical_crossentropy\",\n",
    "              optimizer=tf.keras.optimizers.Adam(),\n",
    "              metrics=[\"accuracy\"])\n",
    "\n"
   ]
  },
  {
   "cell_type": "code",
   "execution_count": 23,
   "metadata": {},
   "outputs": [
    {
     "name": "stdout",
     "output_type": "stream",
     "text": [
      "Saving TensorBoard log files to: models/tf_model_1/20231203-222431\n",
      "Epoch 1/5\n",
      "180/180 [==============================] - ETA: 0s - loss: 1.5889 - accuracy: 0.3031\n",
      "Epoch 1: val_loss did not improve from 1.55891\n",
      "180/180 [==============================] - 122s 638ms/step - loss: 1.5889 - accuracy: 0.3031 - val_loss: 1.5875 - val_accuracy: 0.3285\n",
      "Epoch 2/5\n",
      "180/180 [==============================] - ETA: 0s - loss: 1.5855 - accuracy: 0.3208\n",
      "Epoch 2: val_loss did not improve from 1.55891\n",
      "180/180 [==============================] - 117s 650ms/step - loss: 1.5855 - accuracy: 0.3208 - val_loss: 1.5834 - val_accuracy: 0.3285\n",
      "Epoch 3/5\n",
      "180/180 [==============================] - ETA: 0s - loss: 1.5832 - accuracy: 0.3172\n",
      "Epoch 3: val_loss did not improve from 1.55891\n",
      "180/180 [==============================] - 137s 764ms/step - loss: 1.5832 - accuracy: 0.3172 - val_loss: 1.5819 - val_accuracy: 0.3333\n",
      "Epoch 4/5\n",
      "180/180 [==============================] - ETA: 0s - loss: 1.5810 - accuracy: 0.3090\n",
      "Epoch 4: val_loss improved from 1.55891 to 1.55716, saving model to models\\checkpoint.ckpt\n",
      "180/180 [==============================] - 144s 802ms/step - loss: 1.5810 - accuracy: 0.3090 - val_loss: 1.5572 - val_accuracy: 0.3285\n",
      "Epoch 5/5\n",
      "180/180 [==============================] - ETA: 0s - loss: 1.5888 - accuracy: 0.3141\n",
      "Epoch 5: val_loss did not improve from 1.55716\n",
      "180/180 [==============================] - 147s 816ms/step - loss: 1.5888 - accuracy: 0.3141 - val_loss: 1.5685 - val_accuracy: 0.2799\n"
     ]
    }
   ],
   "source": [
    "# Train the model\n",
    "history_tf_model_1 = tf_model_1.fit(\n",
    "    train_images, train_labels,\n",
    "    epochs=5,\n",
    "    validation_data=(val_images, val_labels),\n",
    "    callbacks = [create_tensorboard_callback(dir_name = \"models\",\n",
    "                                             experiment_name=\"tf_model_1\"),\n",
    "                                             checkpoint_callbck])\n"
   ]
  },
  {
   "cell_type": "code",
   "execution_count": 20,
   "metadata": {},
   "outputs": [],
   "source": [
    "# Create a functional model with data augmentation\n",
    "import tensorflow as tf\n",
    "from tensorflow.keras import layers\n",
    "from tensorflow.keras.models import Sequential\n",
    "# from tensorflow.keras.layers.experimental import preprocessing # OLD\n",
    "\n",
    "\n",
    "data_augmentation = tf.keras.Sequential([\n",
    "  layers.RandomFlip(\"horizontal\"),\n",
    "  layers.RandomRotation(0.2),\n",
    "  layers.RandomZoom(0.2),\n",
    "  layers.RandomHeight(0.2),\n",
    "  layers.RandomWidth(0.2),\n",
    "], name =\"data_augmentation\")\n",
    "\n",
    "# Setup the input shape to our model\n",
    "input_shape = (224, 224, 3)\n",
    "\n",
    "# Create a frozen base model\n",
    "# base_model = tf.keras.applications.EfficientNetB0(include_top=False)\n",
    "base_model = tf.keras.applications.efficientnet_v2.EfficientNetV2B0(include_top=False, weights= None)\n",
    "base_model.trainable = False\n",
    "\n",
    "# Create input and output layers\n",
    "inputs = layers.Input(shape=input_shape, name=\"input_layer\") # create input layer\n",
    "x = data_augmentation(inputs) # augment our training images\n",
    "x = base_model(x, training=False) # pass augmented images to base model but keep it in inference mode, so batchnorm layers don't get updated: https://keras.io/guides/transfer_learning/#build-a-model\n",
    "x = layers.GlobalAveragePooling2D(name=\"global_average_pooling_layer\")(x)\n",
    "outputs = layers.Dense(6, activation=\"softmax\", name=\"output_layer\")(x)\n",
    "tl_model_1 = tf.keras.Model(inputs, outputs)\n",
    "\n",
    "# Compile\n",
    "tl_model_1.compile(loss=\"sparse_categorical_crossentropy\",\n",
    "              optimizer=tf.keras.optimizers.Adam(learning_rate=0.001), # use Adam optimizer with base learning rate\n",
    "              metrics=[\"accuracy\"])"
   ]
  },
  {
   "cell_type": "code",
   "execution_count": 21,
   "metadata": {},
   "outputs": [
    {
     "name": "stdout",
     "output_type": "stream",
     "text": [
      "Saving TensorBoard log files to: models/tl_model_1/20231203-212435\n",
      "Epoch 1/5\n",
      "180/180 [==============================] - ETA: 0s - loss: 1.6310 - accuracy: 0.3257\n",
      "Epoch 1: val_loss did not improve from 1.57243\n",
      "180/180 [==============================] - 95s 499ms/step - loss: 1.6310 - accuracy: 0.3257 - val_loss: 1.5764 - val_accuracy: 0.3285\n",
      "Epoch 2/5\n",
      "180/180 [==============================] - ETA: 0s - loss: 1.5673 - accuracy: 0.3257\n",
      "Epoch 2: val_loss improved from 1.57243 to 1.56309, saving model to models\\checkpoint.ckpt\n",
      "180/180 [==============================] - 108s 603ms/step - loss: 1.5673 - accuracy: 0.3257 - val_loss: 1.5631 - val_accuracy: 0.3285\n",
      "Epoch 3/5\n",
      "180/180 [==============================] - ETA: 0s - loss: 1.5629 - accuracy: 0.3257\n",
      "Epoch 3: val_loss improved from 1.56309 to 1.56135, saving model to models\\checkpoint.ckpt\n",
      "180/180 [==============================] - 186s 1s/step - loss: 1.5629 - accuracy: 0.3257 - val_loss: 1.5614 - val_accuracy: 0.3285\n",
      "Epoch 4/5\n",
      "180/180 [==============================] - ETA: 0s - loss: 1.5618 - accuracy: 0.3257\n",
      "Epoch 4: val_loss improved from 1.56135 to 1.55979, saving model to models\\checkpoint.ckpt\n",
      "180/180 [==============================] - 111s 615ms/step - loss: 1.5618 - accuracy: 0.3257 - val_loss: 1.5598 - val_accuracy: 0.3285\n",
      "Epoch 5/5\n",
      "180/180 [==============================] - ETA: 0s - loss: 1.5619 - accuracy: 0.3257\n",
      "Epoch 5: val_loss improved from 1.55979 to 1.55891, saving model to models\\checkpoint.ckpt\n",
      "180/180 [==============================] - 123s 687ms/step - loss: 1.5619 - accuracy: 0.3257 - val_loss: 1.5589 - val_accuracy: 0.3285\n"
     ]
    }
   ],
   "source": [
    "# Train the model\n",
    "history_tl_2_model_1 = tl_model_1.fit(\n",
    "    train_images, train_labels,\n",
    "    epochs=5,\n",
    "    validation_data=(val_images, val_labels),\n",
    "    callbacks = [create_tensorboard_callback(dir_name = \"models\",\n",
    "                                             experiment_name=\"tl_model_1\"),\n",
    "                                             checkpoint_callbck])"
   ]
  },
  {
   "cell_type": "code",
   "execution_count": 7,
   "metadata": {},
   "outputs": [],
   "source": [
    "# Let's make create_model() function to model from a url\n",
    "def create_model(model_url, num_classes=6):\n",
    "  \"\"\"\n",
    "  Takes a tensorflow hub URL and creates a keras sequential model with it.\n",
    "\n",
    "  Args:\n",
    "    model_url(str): A tensorflow hub feature extraction URL.\n",
    "    num_classes (int): Number of output nrurons in the output layer,\n",
    "    should be equal to number of target classes, default 10.\n",
    "\n",
    "  Returns:\n",
    "    An uncompiled Keras Sequential model with model_url as feature extractor\n",
    "    layer and Dense output layer with num_classes output neurons\n",
    "  \"\"\"\n",
    "  # Download the pretrained model and save it as a Keras layer\n",
    "  feature_extractor_layers = hub.KerasLayer(model_url,\n",
    "                                            trainable=False, # Freeze the already learned pattarens\n",
    "                                            name= \"feature_extraction_layer\",\n",
    "                                            input_shape=(224,224,3)) # Freeze the already learned pattarens\n",
    "  # cretae our own model\n",
    "  model = tf.keras.Sequential([\n",
    "      feature_extractor_layers,\n",
    "      layers.Dense(num_classes, activation=\"softmax\", name = \"output_layer\")\n",
    "  ])\n",
    "\n",
    "  return model\n"
   ]
  },
  {
   "cell_type": "code",
   "execution_count": 8,
   "metadata": {},
   "outputs": [],
   "source": [
    "efficientnet_url= \"https://www.kaggle.com/models/tensorflow/efficientnet/frameworks/TensorFlow2/variations/b1-feature-vector/versions/1\"\n"
   ]
  },
  {
   "cell_type": "code",
   "execution_count": 9,
   "metadata": {},
   "outputs": [],
   "source": [
    "efficientnet_model = create_model(model_url= efficientnet_url,\n",
    "                                  num_classes=6)"
   ]
  },
  {
   "cell_type": "code",
   "execution_count": 10,
   "metadata": {},
   "outputs": [],
   "source": [
    "# compile Efficientnet model\n",
    "efficientnet_model.compile(loss=\"sparse_categorical_crossentropy\",\n",
    "                           optimizer=tf.keras.optimizers.Adam(),\n",
    "                           metrics=[\"accuracy\"])"
   ]
  },
  {
   "cell_type": "code",
   "execution_count": 11,
   "metadata": {},
   "outputs": [
    {
     "name": "stdout",
     "output_type": "stream",
     "text": [
      "Saving TensorBoard log files to: models/FE_model_9/20231203-234909\n",
      "Epoch 1/5\n",
      "180/180 [==============================] - ETA: 0s - loss: 0.8838 - accuracy: 0.6736\n",
      "Epoch 1: val_loss improved from inf to 0.70032, saving model to models\\checkpoint.ckpt\n",
      "180/180 [==============================] - 137s 717ms/step - loss: 0.8838 - accuracy: 0.6736 - val_loss: 0.7003 - val_accuracy: 0.7396\n",
      "Epoch 2/5\n",
      "180/180 [==============================] - ETA: 0s - loss: 0.5941 - accuracy: 0.7828\n",
      "Epoch 2: val_loss improved from 0.70032 to 0.61251, saving model to models\\checkpoint.ckpt\n",
      "180/180 [==============================] - 146s 814ms/step - loss: 0.5941 - accuracy: 0.7828 - val_loss: 0.6125 - val_accuracy: 0.7736\n",
      "Epoch 3/5\n",
      "180/180 [==============================] - ETA: 0s - loss: 0.5056 - accuracy: 0.8194\n",
      "Epoch 3: val_loss improved from 0.61251 to 0.56149, saving model to models\\checkpoint.ckpt\n",
      "180/180 [==============================] - 149s 831ms/step - loss: 0.5056 - accuracy: 0.8194 - val_loss: 0.5615 - val_accuracy: 0.7889\n",
      "Epoch 4/5\n",
      "180/180 [==============================] - ETA: 0s - loss: 0.4498 - accuracy: 0.8427\n",
      "Epoch 4: val_loss improved from 0.56149 to 0.52618, saving model to models\\checkpoint.ckpt\n",
      "180/180 [==============================] - 165s 918ms/step - loss: 0.4498 - accuracy: 0.8427 - val_loss: 0.5262 - val_accuracy: 0.8000\n",
      "Epoch 5/5\n",
      "180/180 [==============================] - ETA: 0s - loss: 0.4055 - accuracy: 0.8597\n",
      "Epoch 5: val_loss improved from 0.52618 to 0.49676, saving model to models\\checkpoint.ckpt\n",
      "180/180 [==============================] - 169s 939ms/step - loss: 0.4055 - accuracy: 0.8597 - val_loss: 0.4968 - val_accuracy: 0.8021\n"
     ]
    }
   ],
   "source": [
    "# Train the model\n",
    "history_FE_model_9 = efficientnet_model.fit(\n",
    "    train_images, train_labels,\n",
    "    epochs=5,\n",
    "    validation_data=(val_images, val_labels),\n",
    "    callbacks = [create_tensorboard_callback(dir_name = \"models\",\n",
    "                                             experiment_name=\"FE_model_9\"),\n",
    "                                             checkpoint_callbck])\n"
   ]
  },
  {
   "cell_type": "code",
   "execution_count": null,
   "metadata": {},
   "outputs": [],
   "source": []
  },
  {
   "cell_type": "code",
   "execution_count": null,
   "metadata": {},
   "outputs": [],
   "source": []
  },
  {
   "cell_type": "code",
   "execution_count": null,
   "metadata": {},
   "outputs": [],
   "source": []
  },
  {
   "cell_type": "code",
   "execution_count": null,
   "metadata": {},
   "outputs": [],
   "source": []
  },
  {
   "cell_type": "code",
   "execution_count": null,
   "metadata": {},
   "outputs": [],
   "source": []
  },
  {
   "cell_type": "code",
   "execution_count": null,
   "metadata": {},
   "outputs": [],
   "source": []
  },
  {
   "cell_type": "code",
   "execution_count": null,
   "metadata": {},
   "outputs": [],
   "source": []
  },
  {
   "cell_type": "code",
   "execution_count": null,
   "metadata": {},
   "outputs": [],
   "source": []
  },
  {
   "cell_type": "code",
   "execution_count": null,
   "metadata": {},
   "outputs": [],
   "source": []
  },
  {
   "cell_type": "code",
   "execution_count": null,
   "metadata": {},
   "outputs": [],
   "source": []
  },
  {
   "cell_type": "code",
   "execution_count": null,
   "metadata": {},
   "outputs": [],
   "source": []
  }
 ],
 "metadata": {
  "kernelspec": {
   "display_name": "tf",
   "language": "python",
   "name": "python3"
  },
  "language_info": {
   "codemirror_mode": {
    "name": "ipython",
    "version": 3
   },
   "file_extension": ".py",
   "mimetype": "text/x-python",
   "name": "python",
   "nbconvert_exporter": "python",
   "pygments_lexer": "ipython3",
   "version": "3.11.5"
  }
 },
 "nbformat": 4,
 "nbformat_minor": 2
}
